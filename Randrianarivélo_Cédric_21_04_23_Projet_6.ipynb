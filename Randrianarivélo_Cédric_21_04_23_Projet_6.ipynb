{
  "cells": [
    {
      "cell_type": "markdown",
      "metadata": {
        "id": "view-in-github",
        "colab_type": "text"
      },
      "source": [
        "<a href=\"https://colab.research.google.com/github/CedricRandrianarivelo/CedricRandrianarivelo-Projet_Computer_Vision_-_-Classez_des_images_de_chiens/blob/main/Randrianariv%C3%A9lo_C%C3%A9dric_21_04_23_Projet_6.ipynb\" target=\"_parent\"><img src=\"https://colab.research.google.com/assets/colab-badge.svg\" alt=\"Open In Colab\"/></a>"
      ]
    },
    {
      "cell_type": "markdown",
      "source": [
        "# Importation des librairies\n"
      ],
      "metadata": {
        "id": "Rnx_xzfOKQtZ"
      },
      "id": "Rnx_xzfOKQtZ"
    },
    {
      "cell_type": "code",
      "source": [
        "import warnings\n",
        "warnings.filterwarnings(\"ignore\")\n",
        "from time import time\n",
        "import numpy as np\n",
        "import pandas as pd\n",
        "# data visualisation libraries\n",
        "import matplotlib.pyplot as plt\n",
        "import tarfile\n",
        "import os"
      ],
      "metadata": {
        "id": "yQhxgdTmKU8W"
      },
      "id": "yQhxgdTmKU8W",
      "execution_count": null,
      "outputs": []
    },
    {
      "cell_type": "code",
      "source": [
        "from google.colab import drive \n",
        "drive.mount('/content/gdrive')"
      ],
      "metadata": {
        "colab": {
          "base_uri": "https://localhost:8080/"
        },
        "id": "LkshvOK-Ka2f",
        "outputId": "924b24f1-4fe5-4c69-81ce-48e704ec24ff"
      },
      "id": "LkshvOK-Ka2f",
      "execution_count": null,
      "outputs": [
        {
          "output_type": "stream",
          "name": "stdout",
          "text": [
            "Mounted at /content/gdrive\n"
          ]
        }
      ]
    },
    {
      "cell_type": "markdown",
      "source": [
        "# Import des données"
      ],
      "metadata": {
        "id": "JI8KtNHbKjuY"
      },
      "id": "JI8KtNHbKjuY"
    },
    {
      "cell_type": "code",
      "source": [],
      "metadata": {
        "id": "js6TZ3rwKqeB"
      },
      "id": "js6TZ3rwKqeB",
      "execution_count": null,
      "outputs": []
    }
  ],
  "metadata": {
    "colab": {
      "provenance": [],
      "include_colab_link": true
    },
    "language_info": {
      "name": "python"
    },
    "kernelspec": {
      "name": "python3",
      "display_name": "Python 3"
    },
    "gpuClass": "standard"
  },
  "nbformat": 4,
  "nbformat_minor": 5
}